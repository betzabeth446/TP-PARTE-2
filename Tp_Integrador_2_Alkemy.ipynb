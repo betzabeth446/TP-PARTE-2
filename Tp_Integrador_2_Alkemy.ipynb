{
  "nbformat": 4,
  "nbformat_minor": 0,
  "metadata": {
    "colab": {
      "provenance": [],
      "authorship_tag": "ABX9TyO8TjKWCCGosDZcyxPITGRC",
      "include_colab_link": true
    },
    "kernelspec": {
      "name": "python3",
      "display_name": "Python 3"
    },
    "language_info": {
      "name": "python"
    }
  },
  "cells": [
    {
      "cell_type": "markdown",
      "metadata": {
        "id": "view-in-github",
        "colab_type": "text"
      },
      "source": [
        "<a href=\"https://colab.research.google.com/github/betzabeth446/TP-PARTE-2/blob/main/Tp_Integrador_2_Alkemy.ipynb\" target=\"_parent\"><img src=\"https://colab.research.google.com/assets/colab-badge.svg\" alt=\"Open In Colab\"/></a>"
      ]
    },
    {
      "cell_type": "code",
      "source": [
        "import pandas as pd\n",
        "import sqlite3\n",
        "\n",
        "# Cargar los archivos CSV\n",
        "customers_df = pd.read_csv('ecommerce_customers_dataset.csv')\n",
        "orders_df = pd.read_csv('ecommerce_orders_dataset.csv')\n",
        "order_items_df = pd.read_csv('ecommerce_order_items_dataset.csv')\n",
        "products_df = pd.read_csv('ecommerce_products_dataset.csv')\n",
        "payments_df = pd.read_csv('ecommerce_order_payments_dataset.csv')\n",
        "\n",
        "# Establecer la columna 'order_id' como índice en el DataFrame payments_df\n",
        "payments_df.set_index('order_id', inplace=True)\n",
        "customers_df.set_index('customer_id', inplace=True) # Use customers_df instead of customers\n",
        "orders_df.set_index('order_id', inplace=True) # Use orders_df instead of orders\n",
        "order_items_df.set_index('order_item_id', inplace=True) # Use order_items_df instead of order_items\n",
        "products_df.set_index('product_id', inplace=True) # Use products_df instead of products\n",
        "\n",
        "\n",
        "\n",
        "# Imprimir las primeras filas del DataFrame payments_df para confirmar el cambio\n",
        "print(payments_df.head())\n",
        "\n",
        "# Análisis de datos\n",
        "\n",
        "# 1. Obtener el número total de clientes únicos\n",
        "num_customers = customers_df.index.nunique()\n",
        "print(f\"Total de clientes únicos: {num_customers}\")\n",
        "\n",
        "# 2. Calcular el promedio de valor de pago por pedido\n",
        "avg_payment_per_order = payments_df['payment_value'].mean()\n",
        "print(f\"Promedio de valor de pago por pedido: {avg_payment_per_order}\")\n",
        "\n",
        "# 3. Determinar la categoría de producto más vendida\n",
        "order_items_products = order_items_df.merge(products_df, on='product_id')\n",
        "most_sold_category = order_items_products['product_category_name'].value_counts().idxmax()\n",
        "print(f\"Categoría de producto más vendida: {most_sold_category}\")\n",
        "\n",
        "# 4. Calcular el número total de pedidos realizados\n",
        "total_orders = orders_df.index.nunique()\n",
        "print(f\"Número total de pedidos realizados: {total_orders}\")\n",
        "\n",
        "# Guardar los resultados en una base de datos SQLite\n",
        "\n",
        "# Crear una base de datos SQLite\n",
        "conn = sqlite3.connect('ecommerce.db')\n",
        "\n",
        "# Guardar los DataFrames en la base de datos\n",
        "customers_df.to_sql('customers', conn, if_exists='replace', index=True)\n",
        "orders_df.to_sql('orders', conn, if_exists='replace', index=True)\n",
        "order_items_df.to_sql('order_items', conn, if_exists='replace', index=True)\n",
        "products_df.to_sql('products', conn, if_exists='replace', index=True)\n",
        "payments_df.to_sql('payments', conn, if_exists='replace', index=True)\n",
        "\n",
        "conn.close()"
      ],
      "metadata": {
        "colab": {
          "base_uri": "https://localhost:8080/"
        },
        "id": "t2NiBHFzp0Gc",
        "outputId": "142192bf-6faf-45da-db3f-f0c8b8a92a61"
      },
      "execution_count": 4,
      "outputs": [
        {
          "output_type": "stream",
          "name": "stdout",
          "text": [
            "                                  payment_sequential payment_type  \\\n",
            "order_id                                                            \n",
            "b81ef226f3fe1789b1e8b2acac839d17                   1  credit_card   \n",
            "a9810da82917af2d9aefd1278f1dcfa0                   1  credit_card   \n",
            "25e8ea4e93396b6fa0d3dd708e76c1bd                   1  credit_card   \n",
            "ba78997921bbcdc1373bb41e913ab953                   1  credit_card   \n",
            "42fdf880ba16b47b59251dd489d4441a                   1  credit_card   \n",
            "\n",
            "                                  payment_installments  payment_value  \n",
            "order_id                                                               \n",
            "b81ef226f3fe1789b1e8b2acac839d17                     8          99.33  \n",
            "a9810da82917af2d9aefd1278f1dcfa0                     1          24.39  \n",
            "25e8ea4e93396b6fa0d3dd708e76c1bd                     1          65.71  \n",
            "ba78997921bbcdc1373bb41e913ab953                     8         107.78  \n",
            "42fdf880ba16b47b59251dd489d4441a                     2         128.45  \n",
            "Total de clientes únicos: 99441\n",
            "Promedio de valor de pago por pedido: 154.10038041699553\n",
            "Categoría de producto más vendida: cama_mesa_banho\n",
            "Número total de pedidos realizados: 99441\n"
          ]
        }
      ]
    }
  ]
}